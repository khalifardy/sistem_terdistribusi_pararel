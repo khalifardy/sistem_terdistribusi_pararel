{
 "cells": [
  {
   "cell_type": "code",
   "execution_count": 14,
   "metadata": {},
   "outputs": [],
   "source": [
    "import requests\n",
    "import json"
   ]
  },
  {
   "cell_type": "code",
   "execution_count": 22,
   "metadata": {},
   "outputs": [
    {
     "data": {
      "text/plain": [
       "[{'id': '1',\n",
       "  'name': 'Google Pixel 6 Pro',\n",
       "  'data': {'color': 'Cloudy White', 'capacity': '128 GB'}},\n",
       " {'id': '2', 'name': 'Apple iPhone 12 Mini, 256GB, Blue', 'data': None},\n",
       " {'id': '3',\n",
       "  'name': 'Apple iPhone 12 Pro Max',\n",
       "  'data': {'color': 'Cloudy White', 'capacity GB': 512}},\n",
       " {'id': '4',\n",
       "  'name': 'Apple iPhone 11, 64GB',\n",
       "  'data': {'price': 389.99, 'color': 'Purple'}},\n",
       " {'id': '5',\n",
       "  'name': 'Samsung Galaxy Z Fold2',\n",
       "  'data': {'price': 689.99, 'color': 'Brown'}},\n",
       " {'id': '6',\n",
       "  'name': 'Apple AirPods',\n",
       "  'data': {'generation': '3rd', 'price': 120}},\n",
       " {'id': '7',\n",
       "  'name': 'Apple MacBook Pro 16',\n",
       "  'data': {'year': 2019,\n",
       "   'price': 1849.99,\n",
       "   'CPU model': 'Intel Core i9',\n",
       "   'Hard disk size': '1 TB'}},\n",
       " {'id': '8',\n",
       "  'name': 'Apple Watch Series 8',\n",
       "  'data': {'Strap Colour': 'Elderberry', 'Case Size': '41mm'}},\n",
       " {'id': '9',\n",
       "  'name': 'Beats Studio3 Wireless',\n",
       "  'data': {'Color': 'Red',\n",
       "   'Description': 'High-performance wireless noise cancelling headphones'}},\n",
       " {'id': '10',\n",
       "  'name': 'Apple iPad Mini 5th Gen',\n",
       "  'data': {'Capacity': '64 GB', 'Screen size': 7.9}},\n",
       " {'id': '11',\n",
       "  'name': 'Apple iPad Mini 5th Gen',\n",
       "  'data': {'Capacity': '254 GB', 'Screen size': 7.9}},\n",
       " {'id': '12',\n",
       "  'name': 'Apple iPad Air',\n",
       "  'data': {'Generation': '4th', 'Price': '419.99', 'Capacity': '64 GB'}},\n",
       " {'id': '13',\n",
       "  'name': 'Apple iPad Air',\n",
       "  'data': {'Generation': '4th', 'Price': '519.99', 'Capacity': '256 GB'}}]"
      ]
     },
     "execution_count": 22,
     "metadata": {},
     "output_type": "execute_result"
    }
   ],
   "source": [
    "#Get\n",
    "r = requests.get(\n",
    "    'https://api.restful-api.dev/objects'\n",
    ")\n",
    "r.json()"
   ]
  },
  {
   "cell_type": "code",
   "execution_count": 21,
   "metadata": {},
   "outputs": [
    {
     "data": {
      "text/plain": [
       "{'id': 'ff8081818b1b4123018b778c64157bae',\n",
       " 'name': 'Apple MacBook Pro 16',\n",
       " 'createdAt': '2023-10-28T18:29:31.285+00:00',\n",
       " 'data': {'year': 2019,\n",
       "  'price': 1849.99,\n",
       "  'CPU model': 'Intel Core i9',\n",
       "  'Hard disk size': '1 TB'}}"
      ]
     },
     "execution_count": 21,
     "metadata": {},
     "output_type": "execute_result"
    }
   ],
   "source": [
    "#POST\n",
    "data = {\n",
    "   \"name\": \"Apple MacBook Pro 16\",\n",
    "   \"data\": {\n",
    "      \"year\": 2019,\n",
    "      \"price\": 1849.99,\n",
    "      \"CPU model\": \"Intel Core i9\",\n",
    "      \"Hard disk size\": \"1 TB\"\n",
    "   }\n",
    "}\n",
    "\n",
    "headers = {\n",
    "    'Content-Type':'application/json'\n",
    "}\n",
    "\n",
    "payload = json.dumps(data)\n",
    "\n",
    "r = requests.post(\"https://api.restful-api.dev/objects\",data=payload, headers=headers)\n",
    "r.json()"
   ]
  },
  {
   "cell_type": "code",
   "execution_count": 23,
   "metadata": {},
   "outputs": [
    {
     "data": {
      "text/plain": [
       "{'id': 'ff8081818b1b4123018b778c64157bae',\n",
       " 'name': 'Apple MacBook Pro 16',\n",
       " 'updatedAt': '2023-10-28T18:30:01.851+00:00',\n",
       " 'data': {'year': 2019,\n",
       "  'price': 2049.99,\n",
       "  'CPU model': 'Intel Core i9',\n",
       "  'Hard disk size': '1 TB',\n",
       "  'color': 'silver'}}"
      ]
     },
     "execution_count": 23,
     "metadata": {},
     "output_type": "execute_result"
    }
   ],
   "source": [
    "#PUT\n",
    "data = {\n",
    "   \"name\": \"Apple MacBook Pro 16\",\n",
    "   \"data\": {\n",
    "      \"year\": 2019,\n",
    "      \"price\": 2049.99,\n",
    "      \"CPU model\": \"Intel Core i9\",\n",
    "      \"Hard disk size\": \"1 TB\",\n",
    "      \"color\": \"silver\"\n",
    "   }\n",
    "}\n",
    "\n",
    "headers = {\n",
    "    'Content-Type':'application/json'\n",
    "}\n",
    "\n",
    "payload = json.dumps(data)\n",
    "\n",
    "r = requests.put(\"https://api.restful-api.dev/objects/ff8081818b1b4123018b778c64157bae\",data=payload, headers=headers)\n",
    "r.json()"
   ]
  },
  {
   "cell_type": "code",
   "execution_count": 24,
   "metadata": {},
   "outputs": [
    {
     "data": {
      "text/plain": [
       "{'id': 'ff8081818b1b4123018b778c64157bae',\n",
       " 'name': 'Apple MacBook Pro 16 (Updated Name)',\n",
       " 'updatedAt': '2023-10-28T18:31:26.990+00:00',\n",
       " 'data': {'year': 2019,\n",
       "  'price': 2049.99,\n",
       "  'CPU model': 'Intel Core i9',\n",
       "  'Hard disk size': '1 TB',\n",
       "  'color': 'silver'}}"
      ]
     },
     "execution_count": 24,
     "metadata": {},
     "output_type": "execute_result"
    }
   ],
   "source": [
    "#Patch\n",
    "data ={\n",
    "   \"name\": \"Apple MacBook Pro 16 (Updated Name)\"\n",
    "}\n",
    "\n",
    "headers = {\n",
    "    'Content-Type':'application/json'\n",
    "}\n",
    "\n",
    "payload = json.dumps(data)\n",
    "\n",
    "r = requests.patch(\"https://api.restful-api.dev/objects/ff8081818b1b4123018b778c64157bae\",data=payload, headers=headers)\n",
    "r.json()"
   ]
  },
  {
   "cell_type": "code",
   "execution_count": 26,
   "metadata": {},
   "outputs": [
    {
     "data": {
      "text/plain": [
       "{'message': 'Object with id = ff8081818b1b4123018b778c64157bae has been deleted.'}"
      ]
     },
     "execution_count": 26,
     "metadata": {},
     "output_type": "execute_result"
    }
   ],
   "source": [
    "#DELETE\n",
    "\n",
    "r = requests.delete(\"https://api.restful-api.dev/objects/ff8081818b1b4123018b778c64157bae\")\n",
    "r.json()"
   ]
  },
  {
   "cell_type": "code",
   "execution_count": null,
   "metadata": {},
   "outputs": [],
   "source": [
    "requests.post()"
   ]
  },
  {
   "cell_type": "code",
   "execution_count": 31,
   "metadata": {},
   "outputs": [
    {
     "name": "stdout",
     "output_type": "stream",
     "text": [
      "---------------------------------------\n",
      " ID user : 1\n",
      " E-Mail Users : george.bluth@reqres.in\n",
      " Name : George Bluth\n",
      "---------------------------------------\n",
      " ID user : 2\n",
      " E-Mail Users : janet.weaver@reqres.in\n",
      " Name : Janet Weaver\n",
      "---------------------------------------\n",
      " ID user : 3\n",
      " E-Mail Users : emma.wong@reqres.in\n",
      " Name : Emma Wong\n",
      "---------------------------------------\n",
      " ID user : 4\n",
      " E-Mail Users : eve.holt@reqres.in\n",
      " Name : Eve Holt\n",
      "---------------------------------------\n",
      " ID user : 5\n",
      " E-Mail Users : charles.morris@reqres.in\n",
      " Name : Charles Morris\n",
      "---------------------------------------\n",
      " ID user : 6\n",
      " E-Mail Users : tracey.ramos@reqres.in\n",
      " Name : Tracey Ramos\n",
      "---------------------------------------\n",
      " ID user : 7\n",
      " E-Mail Users : michael.lawson@reqres.in\n",
      " Name : Michael Lawson\n",
      "---------------------------------------\n",
      " ID user : 8\n",
      " E-Mail Users : lindsay.ferguson@reqres.in\n",
      " Name : Lindsay Ferguson\n",
      "---------------------------------------\n",
      " ID user : 9\n",
      " E-Mail Users : tobias.funke@reqres.in\n",
      " Name : Tobias Funke\n",
      "---------------------------------------\n",
      " ID user : 10\n",
      " E-Mail Users : byron.fields@reqres.in\n",
      " Name : Byron Fields\n",
      "---------------------------------------\n",
      " ID user : 11\n",
      " E-Mail Users : george.edwards@reqres.in\n",
      " Name : George Edwards\n",
      "---------------------------------------\n",
      " ID user : 12\n",
      " E-Mail Users : rachel.howell@reqres.in\n",
      " Name : Rachel Howell\n"
     ]
    }
   ],
   "source": [
    "r = requests.get(\"https://reqres.in/api/unknown\")\n",
    "resp = r.json()\n",
    "page = resp['total_pages']\n",
    "\n",
    "pages = 0\n",
    "list_data = []\n",
    "for i in range(page):\n",
    "    url = f\"https://reqres.in/api/users?page={i+1}\"\n",
    "    hit = requests.get(url)\n",
    "\n",
    "    list_data.append(hit.json()[\"data\"])\n",
    "\n",
    "for i in list_data:\n",
    "    for j in i :\n",
    "        print(\n",
    "            \"---------------------------------------\\n\",\n",
    "            f\"ID user : {j['id']}\\n E-Mail Users : {j['email']}\\n Name : {j['first_name']} {j['last_name']}\"\n",
    "        )\n"
   ]
  },
  {
   "cell_type": "code",
   "execution_count": 40,
   "metadata": {},
   "outputs": [
    {
     "name": "stdout",
     "output_type": "stream",
     "text": [
      "---------------------------------------\n",
      " ID user : 3\n",
      " E-Mail Users : emma.wong@reqres.in\n",
      " Name : Emma Wong\n"
     ]
    }
   ],
   "source": [
    "id = int(input(\"masukan id : \"))\n",
    "url = f\"https://reqres.in/api/users/{id}\"\n",
    "r = requests.get(url)\n",
    "res = r.json()\n",
    "\n",
    "if len(res)>0:\n",
    "    resp = res['data']\n",
    "\n",
    "    print(\n",
    "            \"---------------------------------------\\n\",\n",
    "            f\"ID user : {resp['id']}\\n E-Mail Users : {resp['email']}\\n Name : {resp['first_name']} {resp['last_name']}\"\n",
    "        )\n",
    "else:\n",
    "    print(\"data tidak ditemukan\")"
   ]
  },
  {
   "cell_type": "code",
   "execution_count": 44,
   "metadata": {},
   "outputs": [
    {
     "data": {
      "text/plain": [
       "400"
      ]
     },
     "execution_count": 44,
     "metadata": {},
     "output_type": "execute_result"
    }
   ],
   "source": [
    "url = \"https://reqres.in/api/register\"\n",
    "data = {\n",
    "    \"email\": \"eve.holt@reqres.in\",\n",
    "    \"password\": \"\"\n",
    "}\n",
    "\n",
    "r = requests.post(url,json=data)\n",
    "r.status_code"
   ]
  }
 ],
 "metadata": {
  "kernelspec": {
   "display_name": ".env",
   "language": "python",
   "name": "python3"
  },
  "language_info": {
   "codemirror_mode": {
    "name": "ipython",
    "version": 3
   },
   "file_extension": ".py",
   "mimetype": "text/x-python",
   "name": "python",
   "nbconvert_exporter": "python",
   "pygments_lexer": "ipython3",
   "version": "3.11.6"
  }
 },
 "nbformat": 4,
 "nbformat_minor": 2
}
