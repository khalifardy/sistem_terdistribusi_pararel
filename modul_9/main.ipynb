{
 "cells": [
  {
   "cell_type": "code",
   "execution_count": 3,
   "metadata": {},
   "outputs": [],
   "source": [
    "import pandas as pd"
   ]
  },
  {
   "cell_type": "code",
   "execution_count": 30,
   "metadata": {},
   "outputs": [],
   "source": [
    "def perkalianmatrix(matrixa,matrixb):\n",
    "    if len(matrixa[0]) == len(matrixb):\n",
    "        rows = len(matrixa)\n",
    "        colom = len(matrixb[0])\n",
    "        hasil = [[0 for j in range(colom)] for i in range(rows)]\n",
    "\n",
    "        for k in range(len(hasil[0])):\n",
    "\n",
    "            for row in range(len(matrixa)):\n",
    "                rowa = matrixa[row]\n",
    "                total = 0\n",
    "                for col in range(len(matrixb)):\n",
    "                    kali = rowa[col] * matrixb[col][k]\n",
    "                    \n",
    "                    total +=kali\n",
    "                    hasil[row][k] = total\n",
    "               \n",
    "    \n",
    "        return hasil\n",
    "    else:\n",
    "        print(\"colom pada matriks a tidak sama dengan baris pada matriks b\")\n",
    "\n",
    "\n"
   ]
  },
  {
   "cell_type": "code",
   "execution_count": 33,
   "metadata": {},
   "outputs": [
    {
     "name": "stdout",
     "output_type": "stream",
     "text": [
      "colom pada matriks a tidak sama dengan baris pada matriks b\n"
     ]
    }
   ],
   "source": [
    "matrixA=[\n",
    "    [1,2,3],\n",
    "    [2,3,4],\n",
    "    [3,4,5]\n",
    "]\n",
    "\n",
    "matrixB= [\n",
    "    [1,1,1],\n",
    "    [2,2,2],\n",
    "]\n",
    "\n",
    "hasil2 = perkalianmatrix(matrixA,matrixB)\n",
    "hasil2"
   ]
  },
  {
   "cell_type": "code",
   "execution_count": 36,
   "metadata": {},
   "outputs": [],
   "source": [
    "#matrik 1 dimensi:\n",
    "def matrix1dimensi(matriksa):\n",
    "    jumlah_elemen = len(matriksa) * len(matriksa[0])\n",
    "    hasil = [0 for _ in range(jumlah_elemen)]\n",
    "    count = 0\n",
    "    for i in range(len(matriksa)):\n",
    "        mat = matriksa[i]\n",
    "        for j in range(len(mat)):\n",
    "            hasil[count] = mat[j]\n",
    "            count +=1\n",
    "    \n",
    "    return hasil\n",
    "\n",
    "\n",
    "\n"
   ]
  },
  {
   "cell_type": "code",
   "execution_count": 37,
   "metadata": {},
   "outputs": [
    {
     "data": {
      "text/plain": [
       "[0, 1, 2, 3, 4, 5, 6, 7, 8, 9, 10, 11]"
      ]
     },
     "execution_count": 37,
     "metadata": {},
     "output_type": "execute_result"
    }
   ],
   "source": [
    "matriksC = [\n",
    "    [0,1,2,3],\n",
    "    [4,5,6,7],\n",
    "    [8,9,10,11]\n",
    "]\n",
    "\n",
    "hasil = matrix1dimensi(matriksC)\n",
    "hasil"
   ]
  },
  {
   "cell_type": "code",
   "execution_count": 40,
   "metadata": {},
   "outputs": [],
   "source": [
    "#taksiran pi\n",
    "def rumus(k):\n",
    "    pembilang = 2 * k + 1\n",
    "    return (-1)**k/pembilang \n",
    "\n",
    "def pi_taksiran(n):\n",
    "    total = 0\n",
    "    for i in range(n+1):\n",
    "        total += rumus(i)\n",
    "    return 4 * total\n"
   ]
  },
  {
   "cell_type": "code",
   "execution_count": 49,
   "metadata": {},
   "outputs": [
    {
     "name": "stdout",
     "output_type": "stream",
     "text": [
      "3.232315809405594\n",
      "3.1514934010709914\n",
      "3.1425916543395442\n"
     ]
    }
   ],
   "source": [
    "#n = 10\n",
    "print(pi_taksiran(10))\n",
    "\n",
    "#n = 100\n",
    "print(pi_taksiran(100))\n",
    "\n",
    "#n = 1000\n",
    "print(pi_taksiran(1000))"
   ]
  },
  {
   "cell_type": "code",
   "execution_count": 3,
   "metadata": {},
   "outputs": [],
   "source": [
    "import math\n",
    "import numpy as np\n",
    "\n",
    "def fungsi_a(x):\n",
    "    return 0.5 * x + 5\n",
    "\n",
    "def fungsi_b(x):\n",
    "    return np.sin(x) + 1\n",
    "\n",
    "def trapesium_Rule(start,end,fungsi,tinggi):\n",
    "    fung = (fungsi(start) + fungsi(end))/2\n",
    "    total = 0\n",
    "    while start < tinggi:\n",
    "        start += tinggi\n",
    "        total += fungsi(start)\n",
    "    \n",
    "    return (fung + total) * tinggi\n",
    "\n",
    "def tinggi_trapesium(start,end,n):\n",
    "    t = abs((end-start)/n)\n",
    "    return t\n",
    "\n"
   ]
  },
  {
   "cell_type": "code",
   "execution_count": 4,
   "metadata": {},
   "outputs": [
    {
     "name": "stdout",
     "output_type": "stream",
     "text": [
      "27.01799639927135\n",
      "27.01799639927135\n",
      "25.198208059502722\n"
     ]
    }
   ],
   "source": [
    "# n = 10\n",
    "t = tinggi_trapesium(-10,5,100)\n",
    "luas_1 = trapesium_Rule(-10,0,fungsi_a,t)\n",
    "luas_2 = trapesium_Rule(0,5,fungsi_b,t)\n",
    "print(luas_1 + luas_2)\n",
    "\n",
    "\n",
    "# n = 100\n",
    "t = tinggi_trapesium(-10,5,100)\n",
    "luas_1 = trapesium_Rule(-10,0,fungsi_a,t)\n",
    "luas_2 = trapesium_Rule(0,5,fungsi_b,t)\n",
    "print(luas_1 + luas_2)\n",
    "\n",
    "# n = 1000\n",
    "t = tinggi_trapesium(-10,5,1000)\n",
    "luas_1 = trapesium_Rule(-10,0,fungsi_a,t)\n",
    "luas_2 = trapesium_Rule(0,5,fungsi_b,t)\n",
    "print(luas_1 + luas_2)"
   ]
  },
  {
   "cell_type": "code",
   "execution_count": 8,
   "metadata": {},
   "outputs": [
    {
     "data": {
      "text/plain": [
       "2.2808292940026453e-05"
      ]
     },
     "execution_count": 8,
     "metadata": {},
     "output_type": "execute_result"
    }
   ],
   "source": [
    "luas_2"
   ]
  },
  {
   "cell_type": "code",
   "execution_count": 9,
   "metadata": {},
   "outputs": [
    {
     "data": {
      "text/plain": [
       "1.5707963267948966"
      ]
     },
     "execution_count": 9,
     "metadata": {},
     "output_type": "execute_result"
    }
   ],
   "source": [
    "math.radians(90)"
   ]
  }
 ],
 "metadata": {
  "kernelspec": {
   "display_name": ".env",
   "language": "python",
   "name": "python3"
  },
  "language_info": {
   "codemirror_mode": {
    "name": "ipython",
    "version": 3
   },
   "file_extension": ".py",
   "mimetype": "text/x-python",
   "name": "python",
   "nbconvert_exporter": "python",
   "pygments_lexer": "ipython3",
   "version": "3.12.0"
  }
 },
 "nbformat": 4,
 "nbformat_minor": 2
}
